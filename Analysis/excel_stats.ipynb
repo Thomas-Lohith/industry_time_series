{
 "cells": [
  {
   "cell_type": "code",
   "execution_count": 1,
   "metadata": {},
   "outputs": [],
   "source": [
    "import pandas as pd\n",
    "day_sheet = pd.read_excel('/Users/thomas/Data/Marzo/1 marzo - 7 marzo/1.xlsx')\n",
    "day_sheet.head()\n",
    "day_sheet['StartTimeStr'] = pd.to_datetime(day_sheet['StartTimeStr'], format='%d/%m/%Y %H:%M', errors=\"coerce\", exact=False)\n",
    "day_sheet.head()\n"
   ]
  }
 ],
 "metadata": {
  "kernelspec": {
   "display_name": "venv",
   "language": "python",
   "name": "python3"
  },
  "language_info": {
   "codemirror_mode": {
    "name": "ipython",
    "version": 3
   },
   "file_extension": ".py",
   "mimetype": "text/x-python",
   "name": "python",
   "nbconvert_exporter": "python",
   "pygments_lexer": "ipython3",
   "version": "3.11.5"
  },
  "orig_nbformat": 4
 },
 "nbformat": 4,
 "nbformat_minor": 2
}
