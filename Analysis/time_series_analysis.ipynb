{
 "cells": [
  {
   "cell_type": "code",
   "execution_count": null,
   "metadata": {},
   "outputs": [],
   "source": [
    "#Understanding the data"
   ]
  },
  {
   "cell_type": "code",
   "execution_count": 7,
   "metadata": {
    "notebookRunGroups": {
     "groupValue": "1"
    }
   },
   "outputs": [],
   "source": [
    "#1.Hypothesis Generation \n",
    "#Dependent variable for this time series problem\n"
   ]
  },
  {
   "cell_type": "code",
   "execution_count": null,
   "metadata": {
    "notebookRunGroups": {
     "groupValue": "1"
    }
   },
   "outputs": [],
   "source": [
    "#2.Getting the system ready and loading the data\n",
    "#(*****Locking versions before doing the anlysis to avoid conflicts in version****)\n",
    "\n",
    "# Python =\n",
    "# Pandas = \n",
    "# sklearn =\n",
    "\n",
    "import pandas as pd\n",
    "import numpy as np\n",
    "import matplotlib.pyplot as plt\n",
    "from datetime import datetime\n",
    "from pandas import series \n",
    "%matplotlib inline\n",
    "import warnings  # To ignore the warnings\n",
    "warnings.filters('ignore')\n",
    "\n",
    "##### After splitting the train and test data #####\n",
    "# train = pd.read_csv('train.csv')\n",
    "# test = pd.read_csv('test.csv')\n",
    "\n",
    "## making a copy of train and test data so we don't loose the orginal when we make changes ##\n",
    "# train_original = train.copy()\n",
    "# test_original = test.copy()\n",
    "\n"
   ]
  },
  {
   "cell_type": "code",
   "execution_count": 1,
   "metadata": {
    "notebookRunGroups": {
     "groupValue": "1"
    }
   },
   "outputs": [],
   "source": [
    "#3.Dataset structure and content \n",
    "\n",
    "## check the features and the data ##\n",
    "# train.columns, test.columns\n",
    "\n",
    "## also check the data types and shape ##\n",
    "#train.dtypes, test.dtypes\n",
    "#train.shape, test.shape\n",
    "\n"
   ]
  },
  {
   "cell_type": "code",
   "execution_count": 2,
   "metadata": {
    "notebookRunGroups": {
     "groupValue": "1"
    }
   },
   "outputs": [],
   "source": [
    "#4.feature extraction\n",
    "\n",
    "### extract time and date from the datetime, otherwise we cannot extract features from it ###\n",
    "\n",
    "# train['Datetime'] = pd.to_datetime(train.Datetime, format='%Y/%m/%d %H:%M:%S:%f')\n",
    "# test['Datetime'] = pd.to_datetime(test.Datetime, format='%Y/%m/%d %H:%M:%S:%f')\n",
    "\n",
    "# train_original['Datetime'] = pd.to_datetime(train_original.Datetime, format='%Y/%m/%d %H:%M:%S:%f')\n",
    "\n",
    "### According to our hypothesis the effect of hour, day, month and year on the dependent variable ###\n",
    "    ###    so lets extract the year, month, day and hourfrom the Datetime cloumn  ###\n",
    "\n",
    "for i in (train, test, train_original, test_original):\n",
    "    i['year'] = i.Datetime.dt.year\n",
    "    i['month'] = i.Datetime.dt.month\n",
    "    i['day'] = i.Datetime.dt.day\n",
    "    i['hour'] = i.Datetime.dt.hour\n",
    "\n",
    "### weekday and weekend hypothesis ###\n",
    "\n",
    "## we extract the day of week from Datetime column and then based on those we assign  a variable 0 or 1 means weekend or not ##\n",
    "## (vlaues of 5 and 6 that the dyas are weekends) ##\n",
    "\n",
    "# train['day_of_week'] = train['Datetime'].dt.dayofweek\n",
    "# temp = train['Datetime']\n",
    "\n",
    "# def weekend_fun(row):\n",
    "#     if row.dayofweek == 5 or row.dayofweek == 6:\n",
    "#         return 1\n",
    "#     else:\n",
    "#         return 0\n",
    "    \n",
    "# temp2 = train['Datetime'].apply(applyer)\n",
    "# train['weekend'] = temp2\n",
    "\n",
    "## to visualise the tiem series ##\n",
    "\n",
    "# train.index = train['Datetime'] #indexing if we index the Datetime column so it will be time period on the x axis\n",
    "\n",
    "# df = train.drop('ID',1) #drop id variable to get only the Datetime on x-axis\n",
    "# ts = df['variable'] #varibale ca be acceleration or any dependent variable we are intersted in\n",
    "\n",
    "# plt.figure(figsize=(16,8))\n",
    "# plt.plot(ts, label = 'varibale')\n",
    "# plt.title('time_series')\n",
    "# plt.xlabel('time_period(year-month)')\n",
    "# plt.ylabel('variable')\n",
    "# plt.legend(loc = 'best')\n",
    "\n",
    "\n"
   ]
  },
  {
   "cell_type": "code",
   "execution_count": 1,
   "metadata": {
    "notebookRunGroups": {
     "groupValue": "1"
    }
   },
   "outputs": [],
   "source": [
    "#5.Exploratory analysis \n",
    "\n",
    "### we can now try to verify our hypothesis using the actual data ###\n",
    " \n",
    "train.groupby('year')['variable'].mean().plot.bar()  #check by the year\n",
    "\n",
    "train.groupby('month')['variable'].mean().plot.bar()  #check by the month\n",
    "\n",
    "temporary = train.groupby(['year', 'month'])['variable'].mean() #also check both comb\n",
    "temporary.plot(figsize=(15,5), title= 'variable(monthwise)')  \n",
    "\n",
    "train.groupby('day')['variable'].mean().plot.bar()  #check by the day\n",
    "\n",
    "train.groupby('hour')['variable'].mean().plot.bar()  #check by the hour\n",
    "\n",
    "train.groupby('weekend')['variable'].mean().plot.bar()  #check by the weekend\n",
    "\n",
    "train.groupby('day_of_week')['variable'].mean().plot.bar()  #check by the weekdays\n",
    "\n",
    "\n",
    "\n",
    "train = train.drop('ID',1)\n",
    "\n",
    "### IF WE HAVE A LOT OF NOISE OR THE SAMPLING RATE IS HIGH IN THE TIME SERIES, \n",
    "### WE WILL AGGREGATE BY SECOND, MINUTE, HOUR, DAY, MONTH TO REDUCE THE NOISE AND MAKE IT MORE STABLE ###\n",
    "### IN TERMS OF FORECAST, THIS STEP MAKE EASIER FOR THE MODELS TO LEARN ###\n",
    "\n",
    "train.Timestamp = pd.to_datetime(train.Datetime, format='%Y/%m/%d %H:%M:%S:%f')\n",
    "\n",
    "train.index = train.Timestamp\n",
    "\n",
    "#by second time series\n",
    "second = train.resample('T').mean()\n",
    "\n",
    "#Hourly time series\n",
    "hourly = train.resample('H').mean()\n",
    "\n",
    "#daily time series\n",
    "daily = train.resample('D').mean()\n",
    "\n",
    "#weekly time series\n",
    "weekly = train.resample('W').mean()\n",
    "\n",
    "#monthly time series\n",
    "monthly = train.resample('M').mean()\n",
    "\n",
    "\n",
    "## to visulise in the subplots to check ##\n",
    "\n",
    "fig, axis = plt.subplots(5,1)\n",
    "\n",
    "second.variable.plot(figsize=(15,8), title = 'second', fontsize=14, ax=axs[0])\n",
    "\n",
    "hourly.variable.plot(figsize=(15,8), title = 'hourly', fontsize=14, ax=axs[1])\n",
    "\n",
    "daily.variable.plot(figsize=(15,8), title = 'daily', fontsize=14, ax=axs[2])\n",
    "\n",
    "weekly.variable.plot(figsize=(15,8), title = 'weekly', fontsize=14, ax=axs[3])\n",
    "\n",
    "monthly.variable.plot(figsize=(15,8), title = 'monthly', fontsize=14, ax=axs[4])\n",
    "\n",
    "plt.show()\n",
    "\n",
    "\n",
    "### we can stick to hourly or by second or minute according to our need and do the further work on ###\n",
    "\n",
    "\n",
    "\n",
    "\n",
    "\n"
   ]
  },
  {
   "cell_type": "code",
   "execution_count": null,
   "metadata": {},
   "outputs": [],
   "source": [
    "\n"
   ]
  },
  {
   "cell_type": "code",
   "execution_count": 4,
   "metadata": {
    "notebookRunGroups": {
     "groupValue": "2"
    }
   },
   "outputs": [],
   "source": [
    "#Forecasting using Multiple Modeling Techniques"
   ]
  },
  {
   "cell_type": "code",
   "execution_count": 5,
   "metadata": {},
   "outputs": [],
   "source": [
    "#1.Splititng the data into training and vaidation part "
   ]
  },
  {
   "cell_type": "code",
   "execution_count": 6,
   "metadata": {},
   "outputs": [],
   "source": [
    "#2. Modeling techniques"
   ]
  },
  {
   "cell_type": "code",
   "execution_count": null,
   "metadata": {},
   "outputs": [],
   "source": [
    "#3."
   ]
  }
 ],
 "metadata": {
  "kernelspec": {
   "display_name": "base",
   "language": "python",
   "name": "python3"
  },
  "language_info": {
   "codemirror_mode": {
    "name": "ipython",
    "version": 3
   },
   "file_extension": ".py",
   "mimetype": "text/x-python",
   "name": "python",
   "nbconvert_exporter": "python",
   "pygments_lexer": "ipython3",
   "version": "3.11.5"
  },
  "orig_nbformat": 4
 },
 "nbformat": 4,
 "nbformat_minor": 2
}
