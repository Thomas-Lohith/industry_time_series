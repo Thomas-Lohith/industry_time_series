{
 "cells": [
  {
   "cell_type": "code",
   "execution_count": 4,
   "metadata": {},
   "outputs": [],
   "source": [
    "import pandas as pd\n",
    "import csv\n"
   ]
  },
  {
   "cell_type": "code",
   "execution_count": 9,
   "metadata": {},
   "outputs": [
    {
     "data": {
      "text/html": [
       "<div>\n",
       "<style scoped>\n",
       "    .dataframe tbody tr th:only-of-type {\n",
       "        vertical-align: middle;\n",
       "    }\n",
       "\n",
       "    .dataframe tbody tr th {\n",
       "        vertical-align: top;\n",
       "    }\n",
       "\n",
       "    .dataframe thead th {\n",
       "        text-align: right;\n",
       "    }\n",
       "</style>\n",
       "<table border=\"1\" class=\"dataframe\">\n",
       "  <thead>\n",
       "    <tr style=\"text-align: right;\">\n",
       "      <th></th>\n",
       "      <th>AICD</th>\n",
       "      <th>BASE8</th>\n",
       "      <th>SECTION</th>\n",
       "      <th>DIST_M</th>\n",
       "    </tr>\n",
       "  </thead>\n",
       "  <tbody>\n",
       "    <tr>\n",
       "      <th>101</th>\n",
       "      <td>AICD005</td>\n",
       "      <td>03091043</td>\n",
       "      <td>10BR</td>\n",
       "      <td>694.09</td>\n",
       "    </tr>\n",
       "    <tr>\n",
       "      <th>102</th>\n",
       "      <td>AICD004</td>\n",
       "      <td>0309120A</td>\n",
       "      <td>10BR</td>\n",
       "      <td>709.92</td>\n",
       "    </tr>\n",
       "    <tr>\n",
       "      <th>103</th>\n",
       "      <td>AICD003</td>\n",
       "      <td>030910F5</td>\n",
       "      <td>11BR</td>\n",
       "      <td>727.25</td>\n",
       "    </tr>\n",
       "    <tr>\n",
       "      <th>104</th>\n",
       "      <td>AICD002</td>\n",
       "      <td>030911F1</td>\n",
       "      <td>11BR</td>\n",
       "      <td>744.57</td>\n",
       "    </tr>\n",
       "    <tr>\n",
       "      <th>105</th>\n",
       "      <td>AICD001</td>\n",
       "      <td>03091011</td>\n",
       "      <td>11BR</td>\n",
       "      <td>761.65</td>\n",
       "    </tr>\n",
       "  </tbody>\n",
       "</table>\n",
       "</div>"
      ],
      "text/plain": [
       "        AICD     BASE8 SECTION  DIST_M\n",
       "101  AICD005  03091043    10BR  694.09\n",
       "102  AICD004  0309120A    10BR  709.92\n",
       "103  AICD003  030910F5    11BR  727.25\n",
       "104  AICD002  030911F1    11BR  744.57\n",
       "105  AICD001  03091011    11BR  761.65"
      ]
     },
     "execution_count": 9,
     "metadata": {},
     "output_type": "execute_result"
    }
   ],
   "source": [
    "df = pd.read_csv('/Users/thomas/Desktop/github_repos/industry_time_series/shared/sensors.csv', sep=',')\n",
    "df_span = pd.read_excel('/Users/thomas/Data/Data_sensors/CODESENSOR.xlsx')\n",
    "df_span.tail()"
   ]
  },
  {
   "cell_type": "code",
   "execution_count": 10,
   "metadata": {},
   "outputs": [
    {
     "data": {
      "text/html": [
       "<div>\n",
       "<style scoped>\n",
       "    .dataframe tbody tr th:only-of-type {\n",
       "        vertical-align: middle;\n",
       "    }\n",
       "\n",
       "    .dataframe tbody tr th {\n",
       "        vertical-align: top;\n",
       "    }\n",
       "\n",
       "    .dataframe thead th {\n",
       "        text-align: right;\n",
       "    }\n",
       "</style>\n",
       "<table border=\"1\" class=\"dataframe\">\n",
       "  <thead>\n",
       "    <tr style=\"text-align: right;\">\n",
       "      <th></th>\n",
       "      <th>sensor_id</th>\n",
       "      <th>vertical</th>\n",
       "      <th>flexural</th>\n",
       "      <th>torsional</th>\n",
       "    </tr>\n",
       "  </thead>\n",
       "  <tbody>\n",
       "    <tr>\n",
       "      <th>0</th>\n",
       "      <td>1</td>\n",
       "      <td>03091011_x</td>\n",
       "      <td>03091011_y</td>\n",
       "      <td>03091011_z</td>\n",
       "    </tr>\n",
       "    <tr>\n",
       "      <th>1</th>\n",
       "      <td>2</td>\n",
       "      <td>030911F1_x</td>\n",
       "      <td>030911F1_y</td>\n",
       "      <td>030911F1_z</td>\n",
       "    </tr>\n",
       "    <tr>\n",
       "      <th>2</th>\n",
       "      <td>3</td>\n",
       "      <td>030910F5_x</td>\n",
       "      <td>030910F5_y</td>\n",
       "      <td>030910F5_z</td>\n",
       "    </tr>\n",
       "    <tr>\n",
       "      <th>3</th>\n",
       "      <td>4</td>\n",
       "      <td>0309120A_z</td>\n",
       "      <td>0309120A_y</td>\n",
       "      <td>0309120A_x</td>\n",
       "    </tr>\n",
       "    <tr>\n",
       "      <th>4</th>\n",
       "      <td>5</td>\n",
       "      <td>03091043_x</td>\n",
       "      <td>03091043_y</td>\n",
       "      <td>03091043_z</td>\n",
       "    </tr>\n",
       "  </tbody>\n",
       "</table>\n",
       "</div>"
      ],
      "text/plain": [
       "   sensor_id    vertical    flexural   torsional\n",
       "0          1  03091011_x  03091011_y  03091011_z\n",
       "1          2  030911F1_x  030911F1_y  030911F1_z\n",
       "2          3  030910F5_x  030910F5_y  030910F5_z\n",
       "3          4  0309120A_z  0309120A_y  0309120A_x\n",
       "4          5  03091043_x  03091043_y  03091043_z"
      ]
     },
     "execution_count": 10,
     "metadata": {},
     "output_type": "execute_result"
    }
   ],
   "source": [
    "df.head()"
   ]
  },
  {
   "cell_type": "code",
   "execution_count": 25,
   "metadata": {},
   "outputs": [],
   "source": [
    "df['Base_id']= df_span['BASE8'].iloc[::-1].reset_index(drop=True)\n",
    "df['SECTION']= df_span['SECTION'].iloc[::-1].reset_index(drop=True)\n",
    "df['DIST_M']= df_span['DIST_M'].iloc[::-1].reset_index(drop=True)\n"
   ]
  },
  {
   "cell_type": "code",
   "execution_count": 31,
   "metadata": {},
   "outputs": [],
   "source": [
    "df.head()\n",
    "\n",
    "df.to_csv('sensors.csv', index=False)\n"
   ]
  },
  {
   "cell_type": "code",
   "execution_count": null,
   "metadata": {},
   "outputs": [],
   "source": []
  },
  {
   "cell_type": "code",
   "execution_count": null,
   "metadata": {},
   "outputs": [],
   "source": []
  }
 ],
 "metadata": {
  "kernelspec": {
   "display_name": "venv",
   "language": "python",
   "name": "python3"
  },
  "language_info": {
   "codemirror_mode": {
    "name": "ipython",
    "version": 3
   },
   "file_extension": ".py",
   "mimetype": "text/x-python",
   "name": "python",
   "nbconvert_exporter": "python",
   "pygments_lexer": "ipython3",
   "version": "3.11.5"
  },
  "orig_nbformat": 4
 },
 "nbformat": 4,
 "nbformat_minor": 2
}
